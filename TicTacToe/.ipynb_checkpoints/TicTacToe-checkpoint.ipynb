{
 "cells": [
  {
   "cell_type": "code",
   "execution_count": null,
   "metadata": {},
   "outputs": [],
   "source": [
    "import random\n",
    "\n"
   ]
  },
  {
   "cell_type": "code",
   "execution_count": null,
   "metadata": {},
   "outputs": [],
   "source": [
    "class Game():\n",
    "    \"\"\"docstring for .\"\"\"\n",
    "\n",
    "    board = [[\"-\",\"-\",\"-\"],[\"-\",\"-\",\"-\"],[\"-\",\"-\",\"-\"]]\n",
    "\n",
    "   \n",
    "\n",
    "    def addToken(self,x,y,team):\n",
    "        if team == \"X\":\n",
    "            self.board[x][y] = \"X\"\n",
    "        if team == \"O\":\n",
    "            self.board[x][y] = \"O\"\n",
    "            \n",
    "    def printBoard(self):\n",
    "        for i in range(3):\n",
    "            print(\"{}|{}|{}\".format(self.board[i][0],self.board[i][1],self.board[i][2]))\n",
    "            \n",
    "    def isFull(self):\n",
    "        i = 0\n",
    "        while i < 3:\n",
    "            if \"-\" in self.board[i]:\n",
    "                return False\n",
    "            i += 1\n",
    "        return True\n",
    "    \n",
    "    def AIMove(self,team):\n",
    "        random.seed(101)\n",
    "        pos = random.randint(0,2)\n",
    "        print(pos)"
   ]
  }
 ],
 "metadata": {
  "kernelspec": {
   "display_name": "Python 3",
   "language": "python",
   "name": "python3"
  },
  "language_info": {
   "codemirror_mode": {
    "name": "ipython",
    "version": 3
   },
   "file_extension": ".py",
   "mimetype": "text/x-python",
   "name": "python",
   "nbconvert_exporter": "python",
   "pygments_lexer": "ipython3",
   "version": "3.6.4"
  }
 },
 "nbformat": 4,
 "nbformat_minor": 2
}
